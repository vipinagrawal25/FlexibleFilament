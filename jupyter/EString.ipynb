{
 "cells": [
  {
   "cell_type": "markdown",
   "metadata": {},
   "source": [
    "# Dynamics of an Elastic String\n",
    "\n",
    "We want to solve for an elastic string in a flow that is forced at its ends. The equation obeyed by the string is overdamped. At the simplest case we have the following equation:\n",
    "\\begin{equation}\n",
    "\\Gamma_{\\alpha\\mu}\\frac{d x_{\\mu}}{dt} = -\\frac{\\delta {\\mathcal H}}{\\delta x_{\\mu}} \n",
    "\\end{equation}\n",
    "where $\\Gamma_{\\alpha\\mu}$ is a matrix that gives the dissipation and ${\\mathcal H}$ is the Hamiltonian of the string. \n",
    "\n",
    "At first we choose the simples Hamiltonian, in a discrete problem:\n",
    "\\begin{equation}\n",
    "H = -\\frac{A}{a}\\sum_{k=2}^{n-1}u^{\\rm k}_{\\beta}u^{{\\rm k-1}}_{\\beta}\n",
    "\\end{equation}\n",
    "where ${\\bf u}^{\\rm k}$ is given by \n",
    "\\begin{equation}\n",
    "{\\bf u}^{\\rm k} = \\frac{{\\bf x}^{\\rm k+1}-{\\bf x}^{\\rm k} }{\\mid {\\bf x}^{\\rm k+1}-{\\bf x}^{\\rm k} \\mid}\n",
    "\\end{equation}\n",
    "From this we explicitly calculate the force to be \n",
    "\\begin{equation}\n",
    "{\\bf F}^{\\rm k} \\equiv -\\frac{\\delta {\\mathcal H}}{\\delta {\\bf x}} =\n",
    "                 \\frac{A}{a}\\left[\\frac{{\\bf u}^{\\rm k-2}+ {\\bf u}^{\\rm k}}{b^{\\rm k-1}} -                                                              \\frac{{\\bf u}^{\\rm k+1}+{\\bf u}^{\\rm k-1}}{b^{\\rm k}}                                             + ({\\bf u}^{\\rm k}\\cdot{\\bf u}^{\\rm k-1} + {\\bf u}^{\\rm k}\\cdot{\\bf u}^{\\rm k+1})\\left(\\frac{u^{\\rm k}}{b^{\\rm k}}\\right)    - \\left({\\bf u}^{\\rm k-1}\\cdot{\\bf u}^{\\rm k-2} + {\\bf u}^{\\rm k-1}\\cdot{\\bf u}^{\\rm k}\\right)\\left(\\frac{u^{\\rm k-1}}{b^{\\rm k-1}}\\right)\\right]\n",
    "\\end{equation}\n",
    "where ${\\bf b}^{\\rm k}$ is given by\n",
    "\\begin{equation}\n",
    "{\\bf b}^{\\rm k} \\equiv {\\mid {\\bf x}^{\\rm k+1} - {\\bf x}^{\\rm k} \\mid}\n",
    "\\end{equation}\n",
    "\n",
    "At this moment, we have coded this for a default term. But not for the boundary terms. That is going to be the next step. Vipin is first going to write down the expression similar to the above one for the boundary terms. \n"
   ]
  },
  {
   "cell_type": "code",
   "execution_count": 2,
   "metadata": {},
   "outputs": [
    {
     "name": "stdout",
     "output_type": "stream",
     "text": [
      "Hello world\n"
     ]
    }
   ],
   "source": []
  },
  {
   "cell_type": "code",
   "execution_count": null,
   "metadata": {},
   "outputs": [],
   "source": []
  }
 ],
 "metadata": {
  "kernelspec": {
   "display_name": "Python 3",
   "language": "python",
   "name": "python3"
  },
  "language_info": {
   "codemirror_mode": {
    "name": "ipython",
    "version": 3
   },
   "file_extension": ".py",
   "mimetype": "text/x-python",
   "name": "python",
   "nbconvert_exporter": "python",
   "pygments_lexer": "ipython3",
   "version": "3.6.4"
  }
 },
 "nbformat": 4,
 "nbformat_minor": 2
}
